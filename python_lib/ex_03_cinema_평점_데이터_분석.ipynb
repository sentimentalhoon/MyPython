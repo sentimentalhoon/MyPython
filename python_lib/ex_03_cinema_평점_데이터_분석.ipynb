{
 "cells": [
  {
   "cell_type": "code",
   "execution_count": 1,
   "metadata": {},
   "outputs": [],
   "source": [
    "import numpy as np"
   ]
  },
  {
   "cell_type": "code",
   "execution_count": 8,
   "metadata": {},
   "outputs": [
    {
     "data": {
      "text/plain": [
       "243062147.259619"
      ]
     },
     "execution_count": 8,
     "metadata": {},
     "output_type": "execute_result"
    }
   ],
   "source": [
    "data = np.genfromtxt('..\\\\data\\\\ratings.dat', delimiter=\"::\", dtype=\"int32\")\n",
    "data"
   ]
  },
  {
   "cell_type": "code",
   "execution_count": 10,
   "metadata": {},
   "outputs": [
    {
     "data": {
      "text/plain": [
       "array([   1,    1,    1, ..., 6040, 6040, 6040])"
      ]
     },
     "execution_count": 10,
     "metadata": {},
     "output_type": "execute_result"
    }
   ],
   "source": [
    "user_ids= data[:, 0]\n",
    "user_ids"
   ]
  },
  {
   "cell_type": "code",
   "execution_count": 9,
   "metadata": {},
   "outputs": [
    {
     "ename": "NameError",
     "evalue": "name 'user_id_mean' is not defined",
     "output_type": "error",
     "traceback": [
      "\u001b[1;31m---------------------------------------------------------------------------\u001b[0m",
      "\u001b[1;31mNameError\u001b[0m                                 Traceback (most recent call last)",
      "Cell \u001b[1;32mIn[9], line 5\u001b[0m\n\u001b[0;32m      1\u001b[0m \u001b[39m# 평점 평균이 4점 이상인 id\u001b[39;00m\n\u001b[0;32m      2\u001b[0m \u001b[39m# boolean indexing\u001b[39;00m\n\u001b[0;32m      3\u001b[0m \u001b[39m# user_id_mean arr 로 변환\u001b[39;00m\n\u001b[1;32m----> 5\u001b[0m user_id_mean_arr \u001b[39m=\u001b[39m np\u001b[39m.\u001b[39marray(user_id_mean, dtype \u001b[39m=\u001b[39m \u001b[39m'\u001b[39m\u001b[39mint32\u001b[39m\u001b[39m'\u001b[39m)\n\u001b[0;32m      7\u001b[0m user_id_mean_arr[:, \u001b[39m0\u001b[39m][user_id_mean_arr[:, \u001b[39m1\u001b[39m] \u001b[39m>\u001b[39m\u001b[39m=\u001b[39m \u001b[39m4\u001b[39m]\n",
      "\u001b[1;31mNameError\u001b[0m: name 'user_id_mean' is not defined"
     ]
    }
   ],
   "source": [
    "# 평점 평균이 4점 이상인 id\n",
    "# boolean indexing\n",
    "# user_id_mean arr 로 변환\n",
    "\n",
    "user_id_mean_arr = np.array(user_id_mean, dtype = 'int32')\n",
    "\n",
    "user_id_mean_arr[:, 0][user_id_mean_arr[:, 1] >= 4]\n",
    "\n",
    "# 평점 4 이상인 True 에 해당하는 위치 id 값만 출력 됨."
   ]
  },
  {
   "cell_type": "code",
   "execution_count": null,
   "metadata": {},
   "outputs": [],
   "source": [
    "user_id_unq = user_id_mean_arr[:, 0]"
   ]
  }
 ],
 "metadata": {
  "kernelspec": {
   "display_name": "Python 3",
   "language": "python",
   "name": "python3"
  },
  "language_info": {
   "codemirror_mode": {
    "name": "ipython",
    "version": 3
   },
   "file_extension": ".py",
   "mimetype": "text/x-python",
   "name": "python",
   "nbconvert_exporter": "python",
   "pygments_lexer": "ipython3",
   "version": "3.11.3"
  },
  "orig_nbformat": 4
 },
 "nbformat": 4,
 "nbformat_minor": 2
}
