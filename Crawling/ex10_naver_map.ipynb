{
 "cells": [
  {
   "cell_type": "markdown",
   "metadata": {},
   "source": [
    "## Selenium 에서 iframe 조작하는 법\n",
    "    - selenium 을 통해서 iframe 을 접근하려면 반드시 바라보는 frame 을 이동해야 한다.\n",
    "    - driver.switch_to.frame('frameId')\n",
    "    - 원본 데이터로 이동 = driver.switch_to.default_content()\n",
    "    - 프레임끼리는 이동 불가 -> 프레임 이동 한 후 -> 원본 > 다른 프로에미\n",
    "    - 프레임 속에 스크롤을 조작하는 경우"
   ]
  },
  {
   "cell_type": "code",
   "execution_count": 1,
   "metadata": {},
   "outputs": [],
   "source": [
    "from selenium import webdriver as wb\n",
    "\n",
    "# 컴퓨터용 키보드 라이브러리\n",
    "from selenium.webdriver.common.keys import Keys\n",
    "\n",
    "# 선택자를 구분지어주는 라이브러리\n",
    "from selenium.webdriver.common.by import By\n",
    "from selenium.webdriver.support.ui import WebDriverWait\n",
    "from selenium.webdriver.support import expected_conditions as EC\n",
    "import time\n",
    "\n",
    "# 파일 생성을 위한\n",
    "import os\n",
    "\n",
    "# 이미지의 경로를 실제 파일로 저장\n",
    "from urllib.request import urlretrieve\n",
    "\n",
    "import pandas as pd\n",
    "\n",
    "import random\n",
    "\n",
    "from tqdm.notebook import tqdm\n",
    "\n",
    "import ipywidgets\n",
    "\n",
    "import IProgress"
   ]
  },
  {
   "cell_type": "code",
   "execution_count": 2,
   "metadata": {},
   "outputs": [],
   "source": [
    "driver = wb.Chrome()\n",
    "driver.implicitly_wait(5)"
   ]
  },
  {
   "cell_type": "code",
   "execution_count": 3,
   "metadata": {},
   "outputs": [],
   "source": [
    "driver.get('https://map.naver.com/p?c=15.00,0,0,0,dh')"
   ]
  },
  {
   "cell_type": "code",
   "execution_count": 27,
   "metadata": {},
   "outputs": [],
   "source": [
    "search = driver.find_element(By.CSS_SELECTOR, '.input_search')\n",
    "search.send_keys(\"광주광역시 동구 동명동 맛집\")\n",
    "search.send_keys(Keys.ENTER)"
   ]
  },
  {
   "cell_type": "code",
   "execution_count": 25,
   "metadata": {},
   "outputs": [],
   "source": [
    "driver.switch_to.frame('searchIframe')\n",
    "    \n",
    "title_list = driver.find_elements(By.CSS_SELECTOR, 'span.place_bluelink.TYaxT')\n",
    "title_list[0].click()\n",
    "    \n",
    "driver.switch_to.default_content()"
   ]
  },
  {
   "cell_type": "code",
   "execution_count": 26,
   "metadata": {},
   "outputs": [
    {
     "name": "stdout",
     "output_type": "stream",
     "text": [
      "왕산식당 본점\n"
     ]
    }
   ],
   "source": [
    "driver.switch_to.frame('entryIframe')\n",
    "name = driver.find_element(By.CSS_SELECTOR, '#_title > span.Fc1rA')\n",
    "\n",
    "print(name.text)\n",
    "\n",
    "driver.switch_to.default_content()\n"
   ]
  },
  {
   "cell_type": "code",
   "execution_count": 4,
   "metadata": {},
   "outputs": [
    {
     "name": "stdout",
     "output_type": "stream",
     "text": [
      "왕산식당 본점\n",
      "라그로쏘\n",
      "돌애\n",
      "이츠모 동명본점\n",
      "미미원\n",
      "산수쌈밥 동명점\n",
      "커프커프하우스 동명점\n",
      "동명 모락\n",
      "동백카츠 동명점\n",
      "규슈\n"
     ]
    }
   ],
   "source": [
    "search = driver.find_element(By.CSS_SELECTOR, '.input_search')\n",
    "search.send_keys(\"광주광역시 동구 동명동 맛집\")\n",
    "search.send_keys(Keys.ENTER)\n",
    "\n",
    "time.sleep(2)\n",
    "\n",
    "driver.switch_to.frame('searchIframe')\n",
    "   \n",
    "div = driver.find_element(By.CSS_SELECTOR, 'div.XUrfU')\n",
    "div.click()\n",
    "\n",
    "# for i in range(5):\n",
    "#     body = driver.find_element(By.CSS_SELECTOR, 'body')\n",
    "#     body.send_keys(Keys.END)\n",
    "\n",
    "title_list = driver.find_elements(By.CSS_SELECTOR, 'span.place_bluelink.TYaxT')\n",
    "\n",
    "for title in title_list:\n",
    "    title.click()\n",
    "    time.sleep(3)\n",
    "    driver.switch_to.default_content()\n",
    "    driver.switch_to.frame('entryIframe')\n",
    "    name = driver.find_element(By.CSS_SELECTOR, '#_title > span.Fc1rA')\n",
    "    print(name.text)    \n",
    "    driver.switch_to.default_content()\n",
    "    driver.switch_to.frame('searchIframe')\n",
    "    \n",
    "driver.switch_to.default_content()\n",
    "\n"
   ]
  }
 ],
 "metadata": {
  "kernelspec": {
   "display_name": "Python 3",
   "language": "python",
   "name": "python3"
  },
  "language_info": {
   "codemirror_mode": {
    "name": "ipython",
    "version": 3
   },
   "file_extension": ".py",
   "mimetype": "text/x-python",
   "name": "python",
   "nbconvert_exporter": "python",
   "pygments_lexer": "ipython3",
   "version": "3.11.3"
  },
  "orig_nbformat": 4
 },
 "nbformat": 4,
 "nbformat_minor": 2
}
