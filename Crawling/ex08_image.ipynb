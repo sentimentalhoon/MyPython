{
 "cells": [
  {
   "cell_type": "code",
   "execution_count": 16,
   "metadata": {},
   "outputs": [],
   "source": [
    "from selenium import webdriver as wb\n",
    "\n",
    "# 컴퓨터용 키보드 라이브러리\n",
    "from selenium.webdriver.common.keys import Keys\n",
    "\n",
    "# 선택자를 구분지어주는 라이브러리\n",
    "from selenium.webdriver.common.by import By\n",
    "from selenium.webdriver.support.ui import WebDriverWait\n",
    "from selenium.webdriver.support import expected_conditions as EC\n",
    "import time\n",
    "\n",
    "# 파일 생성을 위한\n",
    "import os\n",
    "\n",
    "# 이미지의 경로를 실제 파일로 저장\n",
    "from urllib.request import urlretrieve\n",
    "\n",
    "import pandas as pd\n",
    "\n",
    "import random"
   ]
  },
  {
   "cell_type": "code",
   "execution_count": 2,
   "metadata": {},
   "outputs": [],
   "source": [
    "# 폴더 생성\n",
    "# 바탕화면에 image 라는 폴더가 있는지 확인. 없다면 생성한다.\n",
    "\n",
    "if not os.path.isdir(\"image\"):\n",
    "    os.mkdir(\"image\")"
   ]
  },
  {
   "cell_type": "code",
   "execution_count": 13,
   "metadata": {},
   "outputs": [],
   "source": [
    "driver = wb.Chrome()\n",
    "driver.implicitly_wait(10)\n",
    "driver.get(\n",
    "    \"https://search.naver.com/search.naver?sm=tab_hty.top&where=image&query=%EC%9E%90%EB%8F%99%EC%B0%A8+%EC%82%AC%EA%B3%A0&oquery=%EC%82%AC%EA%B3%A0&tqi=iM7K0wp0J1ssshjvQzsssssssFZ-169820\"\n",
    ")"
   ]
  },
  {
   "cell_type": "code",
   "execution_count": 17,
   "metadata": {},
   "outputs": [],
   "source": [
    "body = driver.find_element(By.CSS_SELECTOR, 'body')\n",
    "\n",
    "for i in range(3):\n",
    "    body.send_keys(Keys.END)\n",
    "    time.sleep(2)\n",
    "    \n",
    "getImages = driver.find_elements(By.CSS_SELECTOR, \"._image._listImage\")\n",
    "\n",
    "imgSrcList = []\n",
    "for img in getImages:\n",
    "    if img.get_attribute(\"src\").startswith(\"http\"):\n",
    "        imgSrcList.append(img.get_attribute(\"src\"))"
   ]
  },
  {
   "cell_type": "code",
   "execution_count": 18,
   "metadata": {},
   "outputs": [],
   "source": [
    "for src in imgSrcList:\n",
    "    urlretrieve(src, 'image/' +  str(random.randint(10000000, 90000000)) + \".jpg\")"
   ]
  }
 ],
 "metadata": {
  "kernelspec": {
   "display_name": "Python 3",
   "language": "python",
   "name": "python3"
  },
  "language_info": {
   "codemirror_mode": {
    "name": "ipython",
    "version": 3
   },
   "file_extension": ".py",
   "mimetype": "text/x-python",
   "name": "python",
   "nbconvert_exporter": "python",
   "pygments_lexer": "ipython3",
   "version": "3.11.3"
  },
  "orig_nbformat": 4
 },
 "nbformat": 4,
 "nbformat_minor": 2
}
