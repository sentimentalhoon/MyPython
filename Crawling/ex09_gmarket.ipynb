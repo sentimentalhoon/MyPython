{
 "cells": [
  {
   "cell_type": "code",
   "execution_count": 1,
   "metadata": {},
   "outputs": [],
   "source": [
    "from selenium import webdriver as wb\n",
    "\n",
    "# 컴퓨터용 키보드 라이브러리\n",
    "from selenium.webdriver.common.keys import Keys\n",
    "\n",
    "# 선택자를 구분지어주는 라이브러리\n",
    "from selenium.webdriver.common.by import By\n",
    "from selenium.webdriver.support.ui import WebDriverWait\n",
    "from selenium.webdriver.support import expected_conditions as EC\n",
    "import time\n",
    "\n",
    "# 파일 생성을 위한\n",
    "import os\n",
    "\n",
    "# 이미지의 경로를 실제 파일로 저장\n",
    "from urllib.request import urlretrieve\n",
    "\n",
    "import pandas as pd\n",
    "\n",
    "import random\n",
    "\n",
    "from tqdm.notebook import tqdm\n",
    "\n",
    "import ipywidgets\n",
    "\n",
    "import IProgress"
   ]
  },
  {
   "cell_type": "code",
   "execution_count": 2,
   "metadata": {},
   "outputs": [],
   "source": [
    "driver = wb.Chrome()\n",
    "driver.implicitly_wait(5)"
   ]
  },
  {
   "cell_type": "code",
   "execution_count": 11,
   "metadata": {},
   "outputs": [
    {
     "ename": "NoSuchWindowException",
     "evalue": "Message: no such window: target window already closed\nfrom unknown error: web view not found\n  (Session info: chrome=116.0.5845.97)\nStacktrace:\n\tGetHandleVerifier [0x00007FF72FB952A2+57122]\n\t(No symbol) [0x00007FF72FB0EA92]\n\t(No symbol) [0x00007FF72F9DE3AB]\n\t(No symbol) [0x00007FF72F9BE1B9]\n\t(No symbol) [0x00007FF72FA3B417]\n\t(No symbol) [0x00007FF72FA4E24F]\n\t(No symbol) [0x00007FF72FA36DB3]\n\t(No symbol) [0x00007FF72FA0D2B1]\n\t(No symbol) [0x00007FF72FA0E494]\n\tGetHandleVerifier [0x00007FF72FE3EF82+2849794]\n\tGetHandleVerifier [0x00007FF72FE91D24+3189156]\n\tGetHandleVerifier [0x00007FF72FE8ACAF+3160367]\n\tGetHandleVerifier [0x00007FF72FC26D06+653702]\n\t(No symbol) [0x00007FF72FB1A208]\n\t(No symbol) [0x00007FF72FB162C4]\n\t(No symbol) [0x00007FF72FB163F6]\n\t(No symbol) [0x00007FF72FB067A3]\n\tBaseThreadInitThunk [0x00007FFB59207614+20]\n\tRtlUserThreadStart [0x00007FFB5ACA26B1+33]\n",
     "output_type": "error",
     "traceback": [
      "\u001b[1;31m---------------------------------------------------------------------------\u001b[0m",
      "\u001b[1;31mNoSuchWindowException\u001b[0m                     Traceback (most recent call last)",
      "Cell \u001b[1;32mIn[11], line 3\u001b[0m\n\u001b[0;32m      1\u001b[0m driver\u001b[39m.\u001b[39mget(\u001b[39m'\u001b[39m\u001b[39mhttps://www.gmarket.co.kr/n/best\u001b[39m\u001b[39m'\u001b[39m)\n\u001b[1;32m----> 3\u001b[0m itemNameHrefs \u001b[39m=\u001b[39m driver\u001b[39m.\u001b[39;49mfind_elements(By\u001b[39m.\u001b[39;49mCSS_SELECTOR, \u001b[39m'\u001b[39;49m\u001b[39m#gBestWrap > div.best-list > ul > li > a\u001b[39;49m\u001b[39m'\u001b[39;49m)\n\u001b[0;32m      5\u001b[0m itemUrls \u001b[39m=\u001b[39m []\n\u001b[0;32m      6\u001b[0m \u001b[39mfor\u001b[39;00m href \u001b[39min\u001b[39;00m itemNameHrefs:\n",
      "File \u001b[1;32mc:\\Users\\SMHRD\\AppData\\Local\\Programs\\Python\\Python311\\Lib\\site-packages\\selenium\\webdriver\\remote\\webdriver.py:769\u001b[0m, in \u001b[0;36mWebDriver.find_elements\u001b[1;34m(self, by, value)\u001b[0m\n\u001b[0;32m    765\u001b[0m     value \u001b[39m=\u001b[39m \u001b[39mf\u001b[39m\u001b[39m'\u001b[39m\u001b[39m[name=\u001b[39m\u001b[39m\"\u001b[39m\u001b[39m{\u001b[39;00mvalue\u001b[39m}\u001b[39;00m\u001b[39m\"\u001b[39m\u001b[39m]\u001b[39m\u001b[39m'\u001b[39m\n\u001b[0;32m    767\u001b[0m \u001b[39m# Return empty list if driver returns null\u001b[39;00m\n\u001b[0;32m    768\u001b[0m \u001b[39m# See https://github.com/SeleniumHQ/selenium/issues/4555\u001b[39;00m\n\u001b[1;32m--> 769\u001b[0m \u001b[39mreturn\u001b[39;00m \u001b[39mself\u001b[39;49m\u001b[39m.\u001b[39;49mexecute(Command\u001b[39m.\u001b[39;49mFIND_ELEMENTS, {\u001b[39m\"\u001b[39;49m\u001b[39musing\u001b[39;49m\u001b[39m\"\u001b[39;49m: by, \u001b[39m\"\u001b[39;49m\u001b[39mvalue\u001b[39;49m\u001b[39m\"\u001b[39;49m: value})[\u001b[39m\"\u001b[39m\u001b[39mvalue\u001b[39m\u001b[39m\"\u001b[39m] \u001b[39mor\u001b[39;00m []\n",
      "File \u001b[1;32mc:\\Users\\SMHRD\\AppData\\Local\\Programs\\Python\\Python311\\Lib\\site-packages\\selenium\\webdriver\\remote\\webdriver.py:345\u001b[0m, in \u001b[0;36mWebDriver.execute\u001b[1;34m(self, driver_command, params)\u001b[0m\n\u001b[0;32m    343\u001b[0m response \u001b[39m=\u001b[39m \u001b[39mself\u001b[39m\u001b[39m.\u001b[39mcommand_executor\u001b[39m.\u001b[39mexecute(driver_command, params)\n\u001b[0;32m    344\u001b[0m \u001b[39mif\u001b[39;00m response:\n\u001b[1;32m--> 345\u001b[0m     \u001b[39mself\u001b[39;49m\u001b[39m.\u001b[39;49merror_handler\u001b[39m.\u001b[39;49mcheck_response(response)\n\u001b[0;32m    346\u001b[0m     response[\u001b[39m\"\u001b[39m\u001b[39mvalue\u001b[39m\u001b[39m\"\u001b[39m] \u001b[39m=\u001b[39m \u001b[39mself\u001b[39m\u001b[39m.\u001b[39m_unwrap_value(response\u001b[39m.\u001b[39mget(\u001b[39m\"\u001b[39m\u001b[39mvalue\u001b[39m\u001b[39m\"\u001b[39m, \u001b[39mNone\u001b[39;00m))\n\u001b[0;32m    347\u001b[0m     \u001b[39mreturn\u001b[39;00m response\n",
      "File \u001b[1;32mc:\\Users\\SMHRD\\AppData\\Local\\Programs\\Python\\Python311\\Lib\\site-packages\\selenium\\webdriver\\remote\\errorhandler.py:229\u001b[0m, in \u001b[0;36mErrorHandler.check_response\u001b[1;34m(self, response)\u001b[0m\n\u001b[0;32m    227\u001b[0m         alert_text \u001b[39m=\u001b[39m value[\u001b[39m\"\u001b[39m\u001b[39malert\u001b[39m\u001b[39m\"\u001b[39m]\u001b[39m.\u001b[39mget(\u001b[39m\"\u001b[39m\u001b[39mtext\u001b[39m\u001b[39m\"\u001b[39m)\n\u001b[0;32m    228\u001b[0m     \u001b[39mraise\u001b[39;00m exception_class(message, screen, stacktrace, alert_text)  \u001b[39m# type: ignore[call-arg]  # mypy is not smart enough here\u001b[39;00m\n\u001b[1;32m--> 229\u001b[0m \u001b[39mraise\u001b[39;00m exception_class(message, screen, stacktrace)\n",
      "\u001b[1;31mNoSuchWindowException\u001b[0m: Message: no such window: target window already closed\nfrom unknown error: web view not found\n  (Session info: chrome=116.0.5845.97)\nStacktrace:\n\tGetHandleVerifier [0x00007FF72FB952A2+57122]\n\t(No symbol) [0x00007FF72FB0EA92]\n\t(No symbol) [0x00007FF72F9DE3AB]\n\t(No symbol) [0x00007FF72F9BE1B9]\n\t(No symbol) [0x00007FF72FA3B417]\n\t(No symbol) [0x00007FF72FA4E24F]\n\t(No symbol) [0x00007FF72FA36DB3]\n\t(No symbol) [0x00007FF72FA0D2B1]\n\t(No symbol) [0x00007FF72FA0E494]\n\tGetHandleVerifier [0x00007FF72FE3EF82+2849794]\n\tGetHandleVerifier [0x00007FF72FE91D24+3189156]\n\tGetHandleVerifier [0x00007FF72FE8ACAF+3160367]\n\tGetHandleVerifier [0x00007FF72FC26D06+653702]\n\t(No symbol) [0x00007FF72FB1A208]\n\t(No symbol) [0x00007FF72FB162C4]\n\t(No symbol) [0x00007FF72FB163F6]\n\t(No symbol) [0x00007FF72FB067A3]\n\tBaseThreadInitThunk [0x00007FFB59207614+20]\n\tRtlUserThreadStart [0x00007FFB5ACA26B1+33]\n"
     ]
    }
   ],
   "source": [
    "driver.get('https://www.gmarket.co.kr/n/best')\n",
    "\n",
    "itemNameHrefs = driver.find_elements(By.CSS_SELECTOR, '#gBestWrap > div.best-list > ul > li > a')\n",
    "\n",
    "itemUrls = []\n",
    "for href in itemNameHrefs:\n",
    "    itemUrls.append(href.get_attribute('href'))\n",
    "    \n",
    "goodsName = []\n",
    "goodsPrice = []\n",
    "goodsSalePrice = []\n",
    "for item in tqdm(itemUrls):\n",
    "    print(item)\n",
    "    driver.get(item)\n",
    "    time.sleep(2)\n",
    "    try:\n",
    "        name = driver.find_element(By.CSS_SELECTOR, '#itemcase_basic > div > h1')\n",
    "        price = driver.find_element(By.CSS_SELECTOR, '#itemcase_basic > div > div.price > span:nth-child(2) > strong')\n",
    "        saleprice  = driver.find_element(By.CSS_SELECTOR, '#itemcase_basic > div > div.price > span > strong')\n",
    "    except:\n",
    "        continue\n",
    "    \n",
    "    goodsName.append(name.text)\n",
    "    goodsPrice.append(price.text)\n",
    "    goodsSalePrice.append(saleprice.text)\n",
    "    \n",
    "    print(name.text, price.text, saleprice.text)    \n",
    "    time.sleep(2)"
   ]
  }
 ],
 "metadata": {
  "kernelspec": {
   "display_name": "Python 3",
   "language": "python",
   "name": "python3"
  },
  "language_info": {
   "codemirror_mode": {
    "name": "ipython",
    "version": 3
   },
   "file_extension": ".py",
   "mimetype": "text/x-python",
   "name": "python",
   "nbconvert_exporter": "python",
   "pygments_lexer": "ipython3",
   "version": "3.11.3"
  },
  "orig_nbformat": 4
 },
 "nbformat": 4,
 "nbformat_minor": 2
}
