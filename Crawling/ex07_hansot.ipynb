{
 "cells": [
  {
   "cell_type": "code",
   "execution_count": 50,
   "metadata": {},
   "outputs": [],
   "source": [
    "from selenium import webdriver as wb\n",
    "# 컴퓨터용 키보드 라이브러리\n",
    "from selenium.webdriver.common.keys import Keys\n",
    "\n",
    "# 선택자를 구분지어주는 라이브러리\n",
    "from selenium.webdriver.common.by import By\n",
    "from selenium.webdriver.support.ui import WebDriverWait\n",
    "from selenium.webdriver.support import expected_conditions as EC\n",
    "import time\n",
    "\n",
    "import pandas as pd"
   ]
  },
  {
   "cell_type": "code",
   "execution_count": 51,
   "metadata": {},
   "outputs": [],
   "source": [
    "driver = wb.Chrome()\n",
    "driver.implicitly_wait(10)\n",
    "driver.get('https://www.hsd.co.kr/menu/menu_list')"
   ]
  },
  {
   "cell_type": "code",
   "execution_count": 52,
   "metadata": {},
   "outputs": [
    {
     "name": "stdout",
     "output_type": "stream",
     "text": [
      "error\n"
     ]
    }
   ],
   "source": [
    "try:    \n",
    "    while(True):\n",
    "        btn = driver.find_element(By.CSS_SELECTOR, '#btn_more > span > a')\n",
    "        btn.click()\n",
    "        time.sleep(3)\n",
    "except:    \n",
    "    print('error')\n",
    "menu_title = driver.find_elements(By.CSS_SELECTOR, 'div > div.item-text > h4')\n",
    "menu_price = driver.find_elements(By.CSS_SELECTOR, 'div > div.item-text > div > strong')"
   ]
  },
  {
   "cell_type": "code",
   "execution_count": 53,
   "metadata": {},
   "outputs": [
    {
     "name": "stdout",
     "output_type": "stream",
     "text": [
      "111\n",
      "111\n"
     ]
    }
   ],
   "source": [
    "print(len(menu_title))\n",
    "print(len(menu_price))\n",
    "\n",
    "titleList = []\n",
    "priceList = []\n",
    "for title, price in zip(menu_title, menu_price):\n",
    "    titleList.append(title.text)\n",
    "    priceList.append(price.text)\n",
    "    \n",
    "dic = { \"상품명 \" : titleList, \"가격정보\" : priceList}\n",
    "\n",
    "hansot = pd.DataFrame(dic) \n",
    "\n",
    "hansot.to_csv(\"한솥메뉴.csv\", encoding=\"utf-8\")"
   ]
  }
 ],
 "metadata": {
  "kernelspec": {
   "display_name": "Python 3",
   "language": "python",
   "name": "python3"
  },
  "language_info": {
   "codemirror_mode": {
    "name": "ipython",
    "version": 3
   },
   "file_extension": ".py",
   "mimetype": "text/x-python",
   "name": "python",
   "nbconvert_exporter": "python",
   "pygments_lexer": "ipython3",
   "version": "3.11.3"
  },
  "orig_nbformat": 4
 },
 "nbformat": 4,
 "nbformat_minor": 2
}
