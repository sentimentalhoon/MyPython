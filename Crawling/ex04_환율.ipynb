{
 "cells": [
  {
   "cell_type": "markdown",
   "metadata": {},
   "source": [
    "#### 환율 정보"
   ]
  },
  {
   "cell_type": "code",
   "execution_count": 15,
   "metadata": {},
   "outputs": [],
   "source": [
    "import requests\n",
    "from bs4 import BeautifulSoup as bs\n",
    "import pandas as pd\n",
    "import re"
   ]
  },
  {
   "cell_type": "code",
   "execution_count": 28,
   "metadata": {},
   "outputs": [
    {
     "name": "stdout",
     "output_type": "stream",
     "text": [
      "200\n"
     ]
    }
   ],
   "source": [
    "url = \"https://finance.naver.com/marketindex/exchangeList.naver\"\n",
    "headers = {\n",
    "    \"User-Agent\": \"Mozilla/5.0 (Windows NT 10.0; Win64; x64) AppleWebKit/537.36 (KHTML, like Gecko) Chrome/115.0.0.0 Safari/537.36\"\n",
    "}\n",
    "# 페이지 호출\n",
    "res = requests.get(url, headers=headers)\n",
    "print(res.status_code)\n",
    "soup = bs(res.content.decode(\"euc-kr\", \"replace\"), \"lxml\")\n",
    "\n",
    "# body > div > table > tbody > tr:nth-child(1) > td.tit > a\n",
    "# body > div > table > tbody > tr:nth-child(1) > td.sale\n",
    "\n",
    "통화명 = soup.select(\"body > div > table > tbody > tr > td.tit > a\")\n",
    "매매기준율 = soup.select(\"body > div > table > tbody > tr > td.sale\")\n",
    "통화명List = []\n",
    "매매기준율List = []\n",
    "\n",
    "for i in range(len(통화명)):\n",
    "    통화명List.append(통화명[i].text.strip())\n",
    "    매매기준율List.append(매매기준율[i].text.strip())\n",
    "    \n",
    "dic = {\n",
    "    '통화명' : 통화명List,\n",
    "    '매매기준율' : 매매기준율List\n",
    "}    \n",
    "환율 = pd.DataFrame(dic)"
   ]
  }
 ],
 "metadata": {
  "kernelspec": {
   "display_name": "Python 3",
   "language": "python",
   "name": "python3"
  },
  "language_info": {
   "codemirror_mode": {
    "name": "ipython",
    "version": 3
   },
   "file_extension": ".py",
   "mimetype": "text/x-python",
   "name": "python",
   "nbconvert_exporter": "python",
   "pygments_lexer": "ipython3",
   "version": "3.11.3"
  },
  "orig_nbformat": 4
 },
 "nbformat": 4,
 "nbformat_minor": 2
}
