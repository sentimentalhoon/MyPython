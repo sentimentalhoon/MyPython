{
 "cells": [
  {
   "cell_type": "code",
   "execution_count": 1,
   "metadata": {},
   "outputs": [],
   "source": [
    "from selenium import webdriver as wb\n",
    "# 컴퓨터용 키보드 라이브러리\n",
    "from selenium.webdriver.common.keys import Keys\n",
    "\n",
    "# 선택자를 구분지어주는 라이브러리\n",
    "from selenium.webdriver.common.by import By\n",
    "\n",
    "import time"
   ]
  },
  {
   "cell_type": "code",
   "execution_count": 2,
   "metadata": {},
   "outputs": [],
   "source": [
    "# 1. 크롬창을 실행\n",
    "driver = wb.Chrome()"
   ]
  },
  {
   "cell_type": "code",
   "execution_count": 3,
   "metadata": {},
   "outputs": [],
   "source": [
    "driver.get('http://www.naver.com')"
   ]
  },
  {
   "cell_type": "code",
   "execution_count": 4,
   "metadata": {},
   "outputs": [],
   "source": [
    "# 검색창을 찾아오기\n",
    "# find_element() - > 필요한 요소를 찾는 명령\n",
    "# find_elements() -> 복수개의 요소를 찾는 명령\n",
    "search = driver.find_element(By.ID, 'query')\n",
    "search.send_keys('광복절')\n",
    "search.send_keys(Keys.ENTER)"
   ]
  },
  {
   "cell_type": "code",
   "execution_count": 5,
   "metadata": {},
   "outputs": [],
   "source": [
    "# 화면 스크롤 하는 방법\n",
    "bodyTag = driver.find_element(By.TAG_NAME, 'body')\n",
    "bodyTag.send_keys(Keys.END)"
   ]
  },
  {
   "cell_type": "code",
   "execution_count": 6,
   "metadata": {},
   "outputs": [],
   "source": [
    "# 뒤로 가기\n",
    "driver.back()\n",
    "# 앞으로 가기\n",
    "driver.forward()"
   ]
  },
  {
   "cell_type": "code",
   "execution_count": 8,
   "metadata": {},
   "outputs": [],
   "source": [
    "# 화면이 전환되면 모든 정보가 초기화된다.\n",
    "# 반드시 요소를 다시 재검색이 필요하다.\n",
    "search = driver.find_element(By.ID, 'query')\n",
    "search.send_keys('손흥민')\n",
    "search.send_keys(Keys.ENTER)"
   ]
  },
  {
   "cell_type": "code",
   "execution_count": null,
   "metadata": {},
   "outputs": [],
   "source": [
    "#sform > fieldset > button\n",
    "search = driver.find_element(By.ID, 'query')\n",
    "search.send_keys('손흥민')\n",
    "driver.find_element(By.CSS_SELECTOR, '#sform > fieldset > button').click()"
   ]
  },
  {
   "cell_type": "code",
   "execution_count": null,
   "metadata": {},
   "outputs": [],
   "source": [
    "# 창을 종료\n",
    "# driver.close() : 메모리 점유한다.\n",
    "driver.quit()"
   ]
  },
  {
   "cell_type": "code",
   "execution_count": null,
   "metadata": {},
   "outputs": [],
   "source": [
    "driver = wb.Chrome()\n",
    "driver.get('https://search.naver.com/search.naver?where=news&sm=tab_jum&query=%EC%9D%B4%EA%B0%95%EC%9D%B8')"
   ]
  },
  {
   "cell_type": "code",
   "execution_count": null,
   "metadata": {},
   "outputs": [
    {
     "name": "stdout",
     "output_type": "stream",
     "text": [
      "[오피셜] 이강인과 한 달 만 결별…네이마르, PSG 떠나 알 힐랄 이적→연봉 2...\n",
      "\"짧았지만 특별한 시간\"·\"다시 만나자\"…작별인사 나눈 이강인·네이마르\n",
      "이강인 떠난 네이마르…호날두, 벤제마와 사우디판 별들의 전쟁\n",
      "사우디로 떠난 네이마르, 이강인 새 짝꿍은 음바페\n",
      "이강인 “짧았지만 특별했어” 작별 인사에 네이마르 “나중에 보자 아들”\n",
      "이강인, PSG의 플레이메이커 맡나\n",
      "음바페, 불화 접고 PSG 복귀… 이강인과 호흡 맞출까\n",
      "음바페 복귀 여파…PSG 이강인, 미드필더로 이동하나\n",
      "PSG, 네이마르 가고 음바페 온다…이강인과 호흡 기대\n",
      "PSG, 음바페 남고 네이마르 가고...이강인에게 득일까 실일까\n"
     ]
    }
   ],
   "source": [
    "title = driver.find_elements(By.CSS_SELECTOR, 'a.news_tit')\n",
    "\n",
    "for i in title:\n",
    "    print(i.text)"
   ]
  },
  {
   "cell_type": "code",
   "execution_count": null,
   "metadata": {},
   "outputs": [],
   "source": [
    "btn = driver.find_element(By.CSS_SELECTOR, \"a.btn_next\")\n",
    "btn.click()"
   ]
  },
  {
   "cell_type": "code",
   "execution_count": null,
   "metadata": {},
   "outputs": [],
   "source": [
    "title_list = list()\n",
    "\n",
    "for i in range(0, 10):\n",
    "    title = driver.find_elements(By.CSS_SELECTOR, 'a.news_tit')\n",
    "    for j in title:\n",
    "        title_list.append(j.text)\n",
    "    \n",
    "    btn = driver.find_element(By.CSS_SELECTOR, 'a.btn_next')\n",
    "    btn.click()\n",
    "    \n",
    "    time.sleep(2)\n",
    "    \n",
    "driver.quit()    "
   ]
  }
 ],
 "metadata": {
  "kernelspec": {
   "display_name": "Python 3",
   "language": "python",
   "name": "python3"
  },
  "language_info": {
   "codemirror_mode": {
    "name": "ipython",
    "version": 3
   },
   "file_extension": ".py",
   "mimetype": "text/x-python",
   "name": "python",
   "nbconvert_exporter": "python",
   "pygments_lexer": "ipython3",
   "version": "3.11.3"
  },
  "orig_nbformat": 4
 },
 "nbformat": 4,
 "nbformat_minor": 2
}
