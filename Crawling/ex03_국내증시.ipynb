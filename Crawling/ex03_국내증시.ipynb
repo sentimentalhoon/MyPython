{
 "cells": [
  {
   "cell_type": "code",
   "execution_count": 1,
   "metadata": {},
   "outputs": [],
   "source": [
    "import requests\n",
    "from bs4 import BeautifulSoup as bs\n",
    "import pandas as pd\n",
    "import re"
   ]
  },
  {
   "cell_type": "code",
   "execution_count": 37,
   "metadata": {},
   "outputs": [],
   "source": [
    "## https://finance.naver.com/sise/sise_market_sum.naver\n",
    "\n",
    "# 번호 : #contentarea > div.box_type_l > table.type_2 > tbody > tr:nth-child(2) > td.no\n",
    "# 종목명 : #contentarea > div.box_type_l > table.type_2 > tbody > tr:nth-child(2) > td:nth-child(2) > a\n",
    "# contentarea > div.box_type_l > table.type_2 > tbody > tr:nth-child(3) > td:nth-child(2) > a\n",
    "# 현재가 : #contentarea > div.box_type_l > table.type_2 > tbody > tr:nth-child(2) > td:nth-child(3)\n",
    "# 전일비 : #contentarea > div.box_type_l > table.type_2 > tbody > tr:nth-child(2) > td:nth-child(4) > span\n",
    "# 등락률 : #contentarea > div.box_type_l > table.type_2 > tbody > tr:nth-child(2) > td:nth-child(5) > span\n",
    "# 액면가 : #contentarea > div.box_type_l > table.type_2 > tbody > tr:nth-child(2) > td:nth-child(6)\n",
    "url = \"https://finance.naver.com/sise/sise_market_sum.naver\"\n",
    "headers = {\n",
    "    \"User-Agent\": \"Mozilla/5.0 (Windows NT 10.0; Win64; x64) AppleWebKit/537.36 (KHTML, like Gecko) Chrome/115.0.0.0 Safari/537.36\"\n",
    "}\n",
    "# 페이지 호출\n",
    "res = requests.get(url, headers=headers)\n",
    "soup = bs(res.content.decode(\"euc-kr\", \"replace\"), \"lxml\")\n",
    "\n",
    "col = soup.select(\"#contentarea > div.box_type_l > table.type_2 > thead > tr > th\")\n",
    "번호 = soup.select(\"#contentarea > div.box_type_l > table.type_2 > tbody > tr > td.no\")\n",
    "종목명 = soup.select(\n",
    "    \"#contentarea > div.box_type_l > table.type_2 > tbody > tr > td:nth-child(2)\"\n",
    ")\n",
    "현재가 = soup.select(\n",
    "    \"#contentarea > div.box_type_l > table.type_2 > tbody > tr > td:nth-child(3)\"\n",
    ")\n",
    "전일비 = soup.select(\n",
    "    \"#contentarea > div.box_type_l > table.type_2 > tbody > tr > td:nth-child(4)\"\n",
    ")\n",
    "등락률 = soup.select(\n",
    "    \"#contentarea > div.box_type_l > table.type_2 > tbody > tr > td:nth-child(5)\"\n",
    ")\n",
    "액면가 = soup.select(\n",
    "    \"#contentarea > div.box_type_l > table.type_2 > tbody > tr > td:nth-child(6)\"\n",
    ")\n",
    "번호List = []\n",
    "종목명List = []\n",
    "현재가List = []\n",
    "전일비List = []\n",
    "등락률List = []\n",
    "액면가List = []\n",
    "\n",
    "for i in range(len(번호)):\n",
    "    번호List.append(번호[i].text)\n",
    "    종목명List.append(종목명[i].text)\n",
    "    현재가List.append(현재가[i].text)\n",
    "    전일비List.append(전일비[i].text.strip())\n",
    "    등락률List.append(등락률[i].text.strip())\n",
    "    액면가List.append(액면가[i].text)\n",
    "\n",
    "dic = {\n",
    "    col[0].text: 번호List,\n",
    "    col[1].text: 종목명List,\n",
    "    col[2].text: 현재가List,\n",
    "    col[3].text: 전일비List,\n",
    "    col[4].text: 등락률List,\n",
    "    col[5].text: 액면가List,\n",
    "}\n",
    "\n",
    "증권 = pd.DataFrame(dic)\n",
    "\n",
    "증권.set_index(col[1].text, inplace=True)\n",
    "\n",
    "증권.to_csv('네이버증권오늘의시세.csv', encoding='utf-8')"
   ]
  }
 ],
 "metadata": {
  "kernelspec": {
   "display_name": "Python 3",
   "language": "python",
   "name": "python3"
  },
  "language_info": {
   "codemirror_mode": {
    "name": "ipython",
    "version": 3
   },
   "file_extension": ".py",
   "mimetype": "text/x-python",
   "name": "python",
   "nbconvert_exporter": "python",
   "pygments_lexer": "ipython3",
   "version": "3.11.3"
  },
  "orig_nbformat": 4
 },
 "nbformat": 4,
 "nbformat_minor": 2
}
