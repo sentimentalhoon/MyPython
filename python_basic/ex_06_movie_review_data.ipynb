{
 "cells": [
  {
   "cell_type": "code",
   "execution_count": 26,
   "metadata": {},
   "outputs": [
    {
     "name": "stdout",
     "output_type": "stream",
     "text": [
      "전체 리뷰 개수 : 5000\n",
      "리뷰의 평균 길이는 [35.4866] 입니다.\n",
      "긍정 : 2499\n",
      "부정 : 2501\n",
      "리뷰 길이 최대값 : 144\n",
      "리뷰 길이 최대값의 리뷰 : \"상처투성이인 한국인을 위하여 어제는 추기경님이 계셨고 오늘은 교황님께서 치유하시고 가셨습니다. \"\" 고난이 나를 찾을때 피하고 싶은 내마음은\"\"하시며 노래부르실때는 한 인간으로서 사제로서 격었을 그분의 고난에 눈물이 흐릅니다. 이땅에 이런어른 더안계시나요\"\n",
      "'ㅋ' 이 포함된 리뷰 개수 : 328\n",
      "'와' 로 검색된 리뷰 개수 : 234\n"
     ]
    }
   ],
   "source": [
    "## 파일 열기\n",
    "## pickle -> pkl\n",
    "# [], () 자료 구조를 python 형식 그대로 저장하게 하는 확장자 pkl\n",
    "import pickle\n",
    "\n",
    "file = open(\"data\\movie_review.pkl\", \"rb\")\n",
    "fileData = pickle.load(file)\n",
    "file.close()\n",
    "\n",
    "리뷰길이평균값 = 0\n",
    "긍정 = 0\n",
    "부정 = 0\n",
    "리뷰길이최대값 = 0\n",
    "리뷰길이최대값의리뷰 = \"\"\n",
    "크가포함된리뷰개수 = 0\n",
    "검색데이터포함리뷰개수 = 0\n",
    "\n",
    "fileDataLength =  len(fileData)\n",
    "print(f'전체 리뷰 개수 : {fileDataLength}')\n",
    "\n",
    "str = input('검색할 단어나 문장을 입력하시오 >> ')\n",
    "for reply, positiveAndNegative in fileData:\n",
    "    리뷰길이평균값 += lengthReply\n",
    "    \n",
    "    if (positiveAndNegative == 1):\n",
    "        긍정 += 1\n",
    "    elif (positiveAndNegative == 0):\n",
    "        부정 += 1\n",
    "    \n",
    "    lengthReply = len(reply)\n",
    "    if (lengthReply > 리뷰길이최대값):\n",
    "        리뷰길이최대값 = lengthReply\n",
    "        리뷰길이최대값의리뷰 = reply\n",
    "        \n",
    "    if (reply.find('ㅋ') > -1):\n",
    "        크가포함된리뷰개수 += 1       \n",
    "            \n",
    "    if (reply.find(str) > -1):\n",
    "        검색데이터포함리뷰개수 += 1\n",
    "        \n",
    "print(f'리뷰의 평균 길이는 [{리뷰길이평균값 / fileDataLength}] 입니다.')\n",
    "print(f'긍정 : {긍정}')\n",
    "print(f'부정 : {부정}')\n",
    "print(f'리뷰 길이 최대값 : {리뷰길이최대값}')\n",
    "print(f'리뷰 길이 최대값의 리뷰 : {리뷰길이최대값의리뷰}')\n",
    "print(f'\\'ㅋ\\' 이 포함된 리뷰 개수 : {크가포함된리뷰개수}')\n",
    "print(f'\\'{str}\\' 로 검색된 리뷰 개수 : {검색데이터포함리뷰개수}')\n"
   ]
  }
 ],
 "metadata": {
  "kernelspec": {
   "display_name": "Python 3",
   "language": "python",
   "name": "python3"
  },
  "language_info": {
   "codemirror_mode": {
    "name": "ipython",
    "version": 3
   },
   "file_extension": ".py",
   "mimetype": "text/x-python",
   "name": "python",
   "nbconvert_exporter": "python",
   "pygments_lexer": "ipython3",
   "version": "3.11.3"
  },
  "orig_nbformat": 4
 },
 "nbformat": 4,
 "nbformat_minor": 2
}
